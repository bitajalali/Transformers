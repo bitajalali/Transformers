{
  "nbformat": 4,
  "nbformat_minor": 0,
  "metadata": {
    "colab": {
      "provenance": []
    },
    "kernelspec": {
      "name": "python3",
      "display_name": "Python 3"
    },
    "language_info": {
      "name": "python"
    }
  },
  "cells": [
    {
      "cell_type": "code",
      "source": [
        "import torch\n",
        "import torchvision\n",
        "from torchvision import datasets, transforms\n",
        "import torch.nn as nn\n",
        "import torch.optim as optim\n",
        "import torch.backends.cudnn as cudnn\n",
        "import os\n",
        "import numpy as np\n",
        "import matplotlib.pyplot as plt\n",
        "from shutil import copyfile\n",
        "from scipy.io import loadmat\n",
        "\n"
      ],
      "metadata": {
        "id": "grcfPZKgqxSs"
      },
      "execution_count": null,
      "outputs": []
    },
    {
      "cell_type": "markdown",
      "source": [
        "# Set up data paths"
      ],
      "metadata": {
        "id": "LO9ulKgvq6S9"
      }
    },
    {
      "cell_type": "code",
      "source": [
        "images_path = \"./JPEGImages\"\n",
        "labels_path = \"./ImageSplits\"\n",
        "new_dataset_path = \"./StanfordActionDataset\"\n",
        "\n",
        "# Create directories if they don't exist\n",
        "if not(os.path.exists(new_dataset_path)):\n",
        "    os.makedirs(new_dataset_path + '/' + 'train')\n",
        "    os.makedirs(new_dataset_path + '/' + 'test')\n",
        "\n",
        "# Move files to train and test directories\n",
        "txts = os.listdir(labels_path)\n",
        "for txt in txts:\n",
        "    idx = txt[0:-4].rfind('_')\n",
        "    class_name = txt[0:idx]\n",
        "    if class_name in ['actions.tx', 'test.tx', 'train.tx']:\n",
        "        continue\n",
        "    train_or_test = txt[idx+1:-4]\n",
        "    txt_contents = open(labels_path + '/' + txt).read()\n",
        "    image_names  = txt_contents.split('\\n')\n",
        "    for image_name in image_names[0:-1]:\n",
        "        if not(os.path.exists(new_dataset_path + '/' + train_or_test + '/' + class_name)):\n",
        "            os.makedirs(new_dataset_path + '/' + train_or_test + '/' + class_name)\n",
        "        copyfile(images_path + '/' + image_name,\n",
        "                 new_dataset_path + '/' + train_or_test + '/' + class_name + '/' + image_name)\n",
        "\n",
        "# Data transformations\n",
        "transform_train = transforms.Compose([\n",
        "    transforms.RandomResizedCrop(224),\n",
        "    transforms.RandomHorizontalFlip(),\n",
        "    transforms.RandomApply([transforms.ColorJitter(0.4, 0.4, 0.4, 0.1)], p=0.8),\n",
        "    transforms.RandomGrayscale(0.2),\n",
        "    transforms.ToTensor(),\n",
        "    transforms.Normalize((0.4914, 0.4822, 0.4465), (0.2023, 0.1994, 0.2010)),\n",
        "])\n",
        "\n",
        "transform_test = transforms.Compose([\n",
        "    transforms.Resize((224, 224)),\n",
        "    transforms.ToTensor(),\n",
        "    transforms.Normalize((0.4914, 0.4822, 0.4465), (0.2023, 0.1994, 0.2010)),\n",
        "])"
      ],
      "metadata": {
        "id": "cjm9Y5iyq5na"
      },
      "execution_count": null,
      "outputs": []
    },
    {
      "cell_type": "markdown",
      "source": [
        "\n",
        "# Load data"
      ],
      "metadata": {
        "id": "KQvGjuiurDVn"
      }
    },
    {
      "cell_type": "code",
      "source": [
        "trainset = datasets.ImageFolder(root='./StanfordActionDataset/train/', transform=transform_train)\n",
        "trainloader = torch.utils.data.DataLoader(trainset, batch_size=32, shuffle=True, num_workers=2)\n",
        "\n",
        "testset = datasets.ImageFolder(root='./StanfordActionDataset/test/', transform=transform_test)\n",
        "testloader = torch.utils.data.DataLoader(testset, batch_size=32, shuffle=False, num_workers=2)"
      ],
      "metadata": {
        "id": "sco_Rl8YrHdB"
      },
      "execution_count": null,
      "outputs": []
    },
    {
      "cell_type": "markdown",
      "source": [
        "\n",
        "## Set up model, optimizer, and loss function"
      ],
      "metadata": {
        "id": "wO4oOUserVcj"
      }
    },
    {
      "cell_type": "code",
      "source": [
        "\n",
        "device = 'cuda' if torch.cuda.is_available() else 'cpu'\n",
        "model = torchvision.models.resnet18(pretrained=True)\n",
        "model.fc = nn.Linear(512, len(trainset.classes))  # Modify for the number of classes in Stanford 40 dataset\n",
        "model = model.to(device)\n",
        "optimizer = optim.Adam(model.parameters(), lr=0.001)\n",
        "criterion = nn.CrossEntropyLoss()\n"
      ],
      "metadata": {
        "id": "1_4OZ-InraXP"
      },
      "execution_count": null,
      "outputs": []
    },
    {
      "cell_type": "markdown",
      "source": [
        "\n",
        "##Training loop"
      ],
      "metadata": {
        "id": "_kP1tFVrreyj"
      }
    },
    {
      "cell_type": "code",
      "source": [
        "epochs = 10\n",
        "for epoch in range(epochs):\n",
        "    model.train()\n",
        "    running_loss = 0.0\n",
        "    for inputs, labels in trainloader:\n",
        "        inputs, labels = inputs.to(device), labels.to(device)\n",
        "        optimizer.zero_grad()\n",
        "        outputs = model(inputs)\n",
        "        loss = criterion(outputs, labels)\n",
        "        loss.backward()\n",
        "        optimizer.step()\n",
        "        running_loss += loss.item()\n",
        "\n",
        "    print(f\"Epoch {epoch+1}/{epochs}, Loss: {running_loss/len(trainloader)}\")"
      ],
      "metadata": {
        "id": "al0EaBpEsM0v"
      },
      "execution_count": null,
      "outputs": []
    },
    {
      "cell_type": "markdown",
      "source": [
        "## test model"
      ],
      "metadata": {
        "id": "qEbipFsNtZ2E"
      }
    },
    {
      "cell_type": "code",
      "source": [
        "# Test model\n",
        "model.eval()\n",
        "correct = 0\n",
        "total = 0\n",
        "with torch.no_grad():\n",
        "    for inputs, labels in testloader:\n",
        "        inputs, labels = inputs.to(device), labels.to(device)\n",
        "        outputs = model(inputs)\n",
        "        _, predicted = torch.max(outputs, 1)\n",
        "        total += labels.size(0)\n",
        "        correct += (predicted == labels).sum().item()\n",
        "\n",
        "print(f\"Test Accuracy: {100 * correct / total}%\")\n",
        "\n",
        "# Plot test batch images\n",
        "def normalize_image(image):\n",
        "    image_min = image.min()\n",
        "    image_max = image.max()\n",
        "    image.clamp_(min=image_min, max=image_max)\n",
        "    image.add_(-image_min).div_(image_max - image_min + 1e-5)\n",
        "    return image\n",
        "\n",
        "def plot_images(images, labels, classes, normalize=True):\n",
        "    n_images = len(images)\n",
        "    rows = int(np.sqrt(n_images))\n",
        "    cols = int(np.sqrt(n_images))\n",
        "\n",
        "    fig = plt.figure(figsize=(20, 20))\n",
        "    for i in range(rows*cols):\n",
        "        ax = fig.add_subplot(rows, cols, i+1)\n",
        "        image = images[i]\n",
        "        if normalize:\n",
        "            image = normalize_image(image)\n",
        "        ax.imshow(image.permute(1, 2, 0).cpu().numpy())\n",
        "        ax.set_title(classes[labels[i]])\n",
        "        ax.axis('off')\n",
        "\n",
        "classes = testset.classes\n",
        "batch = next(iter(testloader))\n",
        "plot_images(batch[0], batch[1], classes, normalize=True)\n"
      ],
      "metadata": {
        "id": "6OXjVaiHtUht"
      },
      "execution_count": null,
      "outputs": []
    }
  ]
}